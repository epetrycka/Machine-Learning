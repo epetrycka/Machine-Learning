{
 "cells": [
  {
   "cell_type": "markdown",
   "id": "b7c51a3e",
   "metadata": {},
   "source": [
    "Przygotowanie danych:"
   ]
  },
  {
   "cell_type": "code",
   "execution_count": 271,
   "id": "a74f8b44",
   "metadata": {},
   "outputs": [],
   "source": [
    "from tensorflow import keras\n",
    "\n",
    "fashion_mnist = keras.datasets.fashion_mnist\n",
    "(X_train, y_train), (X_test, y_test) = fashion_mnist.load_data()\n",
    "assert X_train.shape == (60000, 28, 28)\n",
    "assert X_test.shape == (10000, 28, 28)\n",
    "assert y_train.shape == (60000,)\n",
    "assert y_test.shape == (10000,)"
   ]
  },
  {
   "cell_type": "code",
   "execution_count": 272,
   "id": "bb2e1d1e",
   "metadata": {},
   "outputs": [],
   "source": [
    "from tensorflow import keras\n",
    "import numpy as np\n",
    "scaler = keras.layers.Rescaling(scale=1/max(np.max(X_train), np.max(X_test)))\n",
    "\n",
    "X_train_scaled = scaler(X_train)\n",
    "X_test_scaled = scaler(X_test)"
   ]
  },
  {
   "cell_type": "code",
   "execution_count": 273,
   "id": "2fabd2df",
   "metadata": {},
   "outputs": [
    {
     "data": {
      "image/png": "[encoded data removed]",
      "text/plain": [
       "<Figure size 200x200 with 1 Axes>"
      ]
     },
     "metadata": {},
     "output_type": "display_data"
    },
    {
     "data": {
      "text/plain": [
       "'pulower'"
      ]
     },
     "execution_count": 273,
     "metadata": {},
     "output_type": "execute_result"
    }
   ],
   "source": [
    "import matplotlib.pyplot as plt\n",
    "plt.figure(figsize = (2,2))\n",
    "plt.imshow(X_train[92], cmap=\"binary\")\n",
    "plt.axis('off')\n",
    "plt.show()\n",
    "\n",
    "class_names = [\"koszulka\", \"spodnie\", \"pulower\", \"sukienka\", \"kurtka\",\n",
    "\"sandał\", \"koszula\", \"półbut\", \"torba\", \"but\"]\n",
    "class_names[y_train[92]]"
   ]
  },
  {
   "cell_type": "code",
   "execution_count": 274,
   "id": "28caf378",
   "metadata": {},
   "outputs": [
    {
     "data": {
      "text/html": [
       "<pre style=\"white-space:pre;overflow-x:auto;line-height:normal;font-family:Menlo,'DejaVu Sans Mono',consolas,'Courier New',monospace\"><span style=\"font-weight: bold\">Model: \"sequential_53\"</span>\n",
       "</pre>\n"
      ],
      "text/plain": [
       "\u001b[1mModel: \"sequential_53\"\u001b[0m\n"
      ]
     },
     "metadata": {},
     "output_type": "display_data"
    },
    {
     "data": {
      "text/html": [
       "<pre style=\"white-space:pre;overflow-x:auto;line-height:normal;font-family:Menlo,'DejaVu Sans Mono',consolas,'Courier New',monospace\">┏━━━━━━━━━━━━━━━━━━━━━━━━━━━━━━━━━┳━━━━━━━━━━━━━━━━━━━━━━━━┳━━━━━━━━━━━━━━━┓\n",
       "┃<span style=\"font-weight: bold\"> Layer (type)                    </span>┃<span style=\"font-weight: bold\"> Output Shape           </span>┃<span style=\"font-weight: bold\">       Param # </span>┃\n",
       "┡━━━━━━━━━━━━━━━━━━━━━━━━━━━━━━━━━╇━━━━━━━━━━━━━━━━━━━━━━━━╇━━━━━━━━━━━━━━━┩\n",
       "│ flatten_33 (<span style=\"color: #0087ff; text-decoration-color: #0087ff\">Flatten</span>)            │ (<span style=\"color: #00d7ff; text-decoration-color: #00d7ff\">None</span>, <span style=\"color: #00af00; text-decoration-color: #00af00\">784</span>)            │             <span style=\"color: #00af00; text-decoration-color: #00af00\">0</span> │\n",
       "├─────────────────────────────────┼────────────────────────┼───────────────┤\n",
       "│ dense_124 (<span style=\"color: #0087ff; text-decoration-color: #0087ff\">Dense</span>)               │ (<span style=\"color: #00d7ff; text-decoration-color: #00d7ff\">None</span>, <span style=\"color: #00af00; text-decoration-color: #00af00\">300</span>)            │       <span style=\"color: #00af00; text-decoration-color: #00af00\">235,500</span> │\n",
       "├─────────────────────────────────┼────────────────────────┼───────────────┤\n",
       "│ dense_125 (<span style=\"color: #0087ff; text-decoration-color: #0087ff\">Dense</span>)               │ (<span style=\"color: #00d7ff; text-decoration-color: #00d7ff\">None</span>, <span style=\"color: #00af00; text-decoration-color: #00af00\">100</span>)            │        <span style=\"color: #00af00; text-decoration-color: #00af00\">30,100</span> │\n",
       "├─────────────────────────────────┼────────────────────────┼───────────────┤\n",
       "│ dense_126 (<span style=\"color: #0087ff; text-decoration-color: #0087ff\">Dense</span>)               │ (<span style=\"color: #00d7ff; text-decoration-color: #00d7ff\">None</span>, <span style=\"color: #00af00; text-decoration-color: #00af00\">10</span>)             │         <span style=\"color: #00af00; text-decoration-color: #00af00\">1,010</span> │\n",
       "└─────────────────────────────────┴────────────────────────┴───────────────┘\n",
       "</pre>\n"
      ],
      "text/plain": [
       "┏━━━━━━━━━━━━━━━━━━━━━━━━━━━━━━━━━┳━━━━━━━━━━━━━━━━━━━━━━━━┳━━━━━━━━━━━━━━━┓\n",
       "┃\u001b[1m \u001b[0m\u001b[1mLayer (type)                   \u001b[0m\u001b[1m \u001b[0m┃\u001b[1m \u001b[0m\u001b[1mOutput Shape          \u001b[0m\u001b[1m \u001b[0m┃\u001b[1m \u001b[0m\u001b[1m      Param #\u001b[0m\u001b[1m \u001b[0m┃\n",
       "┡━━━━━━━━━━━━━━━━━━━━━━━━━━━━━━━━━╇━━━━━━━━━━━━━━━━━━━━━━━━╇━━━━━━━━━━━━━━━┩\n",
       "│ flatten_33 (\u001b[38;5;33mFlatten\u001b[0m)            │ (\u001b[38;5;45mNone\u001b[0m, \u001b[38;5;34m784\u001b[0m)            │             \u001b[38;5;34m0\u001b[0m │\n",
       "├─────────────────────────────────┼────────────────────────┼───────────────┤\n",
       "│ dense_124 (\u001b[38;5;33mDense\u001b[0m)               │ (\u001b[38;5;45mNone\u001b[0m, \u001b[38;5;34m300\u001b[0m)            │       \u001b[38;5;34m235,500\u001b[0m │\n",
       "├─────────────────────────────────┼────────────────────────┼───────────────┤\n",
       "│ dense_125 (\u001b[38;5;33mDense\u001b[0m)               │ (\u001b[38;5;45mNone\u001b[0m, \u001b[38;5;34m100\u001b[0m)            │        \u001b[38;5;34m30,100\u001b[0m │\n",
       "├─────────────────────────────────┼────────────────────────┼───────────────┤\n",
       "│ dense_126 (\u001b[38;5;33mDense\u001b[0m)               │ (\u001b[38;5;45mNone\u001b[0m, \u001b[38;5;34m10\u001b[0m)             │         \u001b[38;5;34m1,010\u001b[0m │\n",
       "└─────────────────────────────────┴────────────────────────┴───────────────┘\n"
      ]
     },
     "metadata": {},
     "output_type": "display_data"
    },
    {
     "data": {
      "text/html": [
       "<pre style=\"white-space:pre;overflow-x:auto;line-height:normal;font-family:Menlo,'DejaVu Sans Mono',consolas,'Courier New',monospace\"><span style=\"font-weight: bold\"> Total params: </span><span style=\"color: #00af00; text-decoration-color: #00af00\">266,610</span> (1.02 MB)\n",
       "</pre>\n"
      ],
      "text/plain": [
       "\u001b[1m Total params: \u001b[0m\u001b[38;5;34m266,610\u001b[0m (1.02 MB)\n"
      ]
     },
     "metadata": {},
     "output_type": "display_data"
    },
    {
     "data": {
      "text/html": [
       "<pre style=\"white-space:pre;overflow-x:auto;line-height:normal;font-family:Menlo,'DejaVu Sans Mono',consolas,'Courier New',monospace\"><span style=\"font-weight: bold\"> Trainable params: </span><span style=\"color: #00af00; text-decoration-color: #00af00\">266,610</span> (1.02 MB)\n",
       "</pre>\n"
      ],
      "text/plain": [
       "\u001b[1m Trainable params: \u001b[0m\u001b[38;5;34m266,610\u001b[0m (1.02 MB)\n"
      ]
     },
     "metadata": {},
     "output_type": "display_data"
    },
    {
     "data": {
      "text/html": [
       "<pre style=\"white-space:pre;overflow-x:auto;line-height:normal;font-family:Menlo,'DejaVu Sans Mono',consolas,'Courier New',monospace\"><span style=\"font-weight: bold\"> Non-trainable params: </span><span style=\"color: #00af00; text-decoration-color: #00af00\">0</span> (0.00 B)\n",
       "</pre>\n"
      ],
      "text/plain": [
       "\u001b[1m Non-trainable params: \u001b[0m\u001b[38;5;34m0\u001b[0m (0.00 B)\n"
      ]
     },
     "metadata": {},
     "output_type": "display_data"
    }
   ],
   "source": [
    "model = keras.models.Sequential()\n",
    "\n",
    "x = model.add(keras.layers.Input(shape=[28,28]))\n",
    "flat = model.add(keras.layers.Flatten(x))\n",
    "dense_1 = model.add(keras.layers.Dense(units=300, activation='relu'))\n",
    "dense_2 = model.add(keras.layers.Dense(units=100, activation='relu'))\n",
    "dense_fin = model.add(keras.layers.Dense(units=10, activation='softmax'))\n",
    "\n",
    "model.summary()"
   ]
  },
  {
   "cell_type": "code",
   "execution_count": 275,
   "id": "5c79a330",
   "metadata": {},
   "outputs": [],
   "source": [
    "model.compile(optimizer=keras.optimizers.SGD(), loss=keras.losses.SparseCategoricalCrossentropy(), metrics=['accuracy'])"
   ]
  },
  {
   "cell_type": "code",
   "execution_count": 276,
   "id": "2c4deece",
   "metadata": {},
   "outputs": [],
   "source": [
    "import os\n",
    "root_logdir = os.path.join(os.curdir, \"image_logs\")\n",
    "\n",
    "def get_run_logdir(root_logdir: str):\n",
    "    import time\n",
    "    run_id = time.strftime(\"run_%Y_%m_%d-%H_%M_%S\")\n",
    "    return os.path.join(root_logdir, run_id)\n",
    "\n",
    "run_logdir = get_run_logdir(root_logdir)"
   ]
  },
  {
   "cell_type": "code",
   "execution_count": 277,
   "id": "b07224ef",
   "metadata": {},
   "outputs": [
    {
     "name": "stdout",
     "output_type": "stream",
     "text": [
      "Epoch 1/20\n",
      "\u001b[1m1688/1688\u001b[0m \u001b[32m━━━━━━━━━━━━━━━━━━━━\u001b[0m\u001b[37m\u001b[0m \u001b[1m6s\u001b[0m 3ms/step - accuracy: 0.6764 - loss: 0.9937 - val_accuracy: 0.8205 - val_loss: 0.5321\n",
      "Epoch 2/20\n",
      "\u001b[1m1688/1688\u001b[0m \u001b[32m━━━━━━━━━━━━━━━━━━━━\u001b[0m\u001b[37m\u001b[0m \u001b[1m4s\u001b[0m 3ms/step - accuracy: 0.8222 - loss: 0.5119 - val_accuracy: 0.8367 - val_loss: 0.4741\n",
      "Epoch 3/20\n",
      "\u001b[1m1688/1688\u001b[0m \u001b[32m━━━━━━━━━━━━━━━━━━━━\u001b[0m\u001b[37m\u001b[0m \u001b[1m4s\u001b[0m 3ms/step - accuracy: 0.8453 - loss: 0.4440 - val_accuracy: 0.8423 - val_loss: 0.4339\n",
      "Epoch 4/20\n",
      "\u001b[1m1688/1688\u001b[0m \u001b[32m━━━━━━━━━━━━━━━━━━━━\u001b[0m\u001b[37m\u001b[0m \u001b[1m4s\u001b[0m 3ms/step - accuracy: 0.8538 - loss: 0.4218 - val_accuracy: 0.8367 - val_loss: 0.4548\n",
      "Epoch 5/20\n",
      "\u001b[1m1688/1688\u001b[0m \u001b[32m━━━━━━━━━━━━━━━━━━━━\u001b[0m\u001b[37m\u001b[0m \u001b[1m4s\u001b[0m 3ms/step - accuracy: 0.8578 - loss: 0.4037 - val_accuracy: 0.8457 - val_loss: 0.4212\n",
      "Epoch 6/20\n",
      "\u001b[1m1688/1688\u001b[0m \u001b[32m━━━━━━━━━━━━━━━━━━━━\u001b[0m\u001b[37m\u001b[0m \u001b[1m4s\u001b[0m 3ms/step - accuracy: 0.8650 - loss: 0.3807 - val_accuracy: 0.8477 - val_loss: 0.4142\n",
      "Epoch 7/20\n",
      "\u001b[1m1688/1688\u001b[0m \u001b[32m━━━━━━━━━━━━━━━━━━━━\u001b[0m\u001b[37m\u001b[0m \u001b[1m6s\u001b[0m 4ms/step - accuracy: 0.8690 - loss: 0.3737 - val_accuracy: 0.8672 - val_loss: 0.3750\n",
      "Epoch 8/20\n",
      "\u001b[1m1688/1688\u001b[0m \u001b[32m━━━━━━━━━━━━━━━━━━━━\u001b[0m\u001b[37m\u001b[0m \u001b[1m4s\u001b[0m 3ms/step - accuracy: 0.8736 - loss: 0.3577 - val_accuracy: 0.8662 - val_loss: 0.3797\n",
      "Epoch 9/20\n",
      "\u001b[1m1688/1688\u001b[0m \u001b[32m━━━━━━━━━━━━━━━━━━━━\u001b[0m\u001b[37m\u001b[0m \u001b[1m4s\u001b[0m 3ms/step - accuracy: 0.8770 - loss: 0.3491 - val_accuracy: 0.8638 - val_loss: 0.3785\n",
      "Epoch 10/20\n",
      "\u001b[1m1688/1688\u001b[0m \u001b[32m━━━━━━━━━━━━━━━━━━━━\u001b[0m\u001b[37m\u001b[0m \u001b[1m4s\u001b[0m 3ms/step - accuracy: 0.8787 - loss: 0.3394 - val_accuracy: 0.8712 - val_loss: 0.3587\n",
      "Epoch 11/20\n",
      "\u001b[1m1688/1688\u001b[0m \u001b[32m━━━━━━━━━━━━━━━━━━━━\u001b[0m\u001b[37m\u001b[0m \u001b[1m4s\u001b[0m 3ms/step - accuracy: 0.8836 - loss: 0.3266 - val_accuracy: 0.8732 - val_loss: 0.3546\n",
      "Epoch 12/20\n",
      "\u001b[1m1688/1688\u001b[0m \u001b[32m━━━━━━━━━━━━━━━━━━━━\u001b[0m\u001b[37m\u001b[0m \u001b[1m5s\u001b[0m 3ms/step - accuracy: 0.8872 - loss: 0.3168 - val_accuracy: 0.8682 - val_loss: 0.3659\n",
      "Epoch 13/20\n",
      "\u001b[1m1688/1688\u001b[0m \u001b[32m━━━━━━━━━━━━━━━━━━━━\u001b[0m\u001b[37m\u001b[0m \u001b[1m6s\u001b[0m 4ms/step - accuracy: 0.8873 - loss: 0.3137 - val_accuracy: 0.8690 - val_loss: 0.3614\n",
      "Epoch 14/20\n",
      "\u001b[1m1688/1688\u001b[0m \u001b[32m━━━━━━━━━━━━━━━━━━━━\u001b[0m\u001b[37m\u001b[0m \u001b[1m5s\u001b[0m 3ms/step - accuracy: 0.8896 - loss: 0.3055 - val_accuracy: 0.8758 - val_loss: 0.3418\n",
      "Epoch 15/20\n",
      "\u001b[1m1688/1688\u001b[0m \u001b[32m━━━━━━━━━━━━━━━━━━━━\u001b[0m\u001b[37m\u001b[0m \u001b[1m4s\u001b[0m 3ms/step - accuracy: 0.8923 - loss: 0.2957 - val_accuracy: 0.8750 - val_loss: 0.3521\n",
      "Epoch 16/20\n",
      "\u001b[1m1688/1688\u001b[0m \u001b[32m━━━━━━━━━━━━━━━━━━━━\u001b[0m\u001b[37m\u001b[0m \u001b[1m4s\u001b[0m 3ms/step - accuracy: 0.8953 - loss: 0.2889 - val_accuracy: 0.8812 - val_loss: 0.3306\n",
      "Epoch 17/20\n",
      "\u001b[1m1688/1688\u001b[0m \u001b[32m━━━━━━━━━━━━━━━━━━━━\u001b[0m\u001b[37m\u001b[0m \u001b[1m4s\u001b[0m 3ms/step - accuracy: 0.8978 - loss: 0.2893 - val_accuracy: 0.8830 - val_loss: 0.3247\n",
      "Epoch 18/20\n",
      "\u001b[1m1688/1688\u001b[0m \u001b[32m━━━━━━━━━━━━━━━━━━━━\u001b[0m\u001b[37m\u001b[0m \u001b[1m4s\u001b[0m 3ms/step - accuracy: 0.9020 - loss: 0.2742 - val_accuracy: 0.8748 - val_loss: 0.3373\n",
      "Epoch 19/20\n",
      "\u001b[1m1688/1688\u001b[0m \u001b[32m━━━━━━━━━━━━━━━━━━━━\u001b[0m\u001b[37m\u001b[0m \u001b[1m5s\u001b[0m 3ms/step - accuracy: 0.8997 - loss: 0.2764 - val_accuracy: 0.8710 - val_loss: 0.3420\n",
      "Epoch 20/20\n",
      "\u001b[1m1688/1688\u001b[0m \u001b[32m━━━━━━━━━━━━━━━━━━━━\u001b[0m\u001b[37m\u001b[0m \u001b[1m7s\u001b[0m 4ms/step - accuracy: 0.9031 - loss: 0.2683 - val_accuracy: 0.8825 - val_loss: 0.3239\n"
     ]
    },
    {
     "data": {
      "text/plain": [
       "<keras.src.callbacks.history.History at 0x2d067ea8470>"
      ]
     },
     "execution_count": 277,
     "metadata": {},
     "output_type": "execute_result"
    }
   ],
   "source": [
    "tensorboard_cb = keras.callbacks.TensorBoard(log_dir=run_logdir)\n",
    "\n",
    "model.fit(x=X_train_scaled, y=y_train, epochs=20, validation_split=0.1, callbacks=tensorboard_cb)"
   ]
  },
  {
   "cell_type": "code",
   "execution_count": 278,
   "id": "6ceb791a",
   "metadata": {},
   "outputs": [
    {
     "name": "stdout",
     "output_type": "stream",
     "text": [
      "\u001b[1m1/1\u001b[0m \u001b[32m━━━━━━━━━━━━━━━━━━━━\u001b[0m\u001b[37m\u001b[0m \u001b[1m0s\u001b[0m 48ms/step\n",
      "Prediction: kurtka\n",
      "Confidence: 1.0\n",
      "Truth: koszula\n"
     ]
    },
    {
     "data": {
      "image/png": "[encoded data removed]",
      "text/plain": [
       "<Figure size 200x200 with 1 Axes>"
      ]
     },
     "metadata": {},
     "output_type": "display_data"
    }
   ],
   "source": [
    "image_index = np.random.randint(len(X_test))\n",
    "image = np.array([X_test[image_index]])\n",
    "confidences = model.predict(image)\n",
    "confidence = np.max(confidences[0])\n",
    "prediction = np.argmax(confidences[0])\n",
    "print(\"Prediction:\", class_names[prediction])\n",
    "print(\"Confidence:\", confidence)\n",
    "\n",
    "print(\"Truth:\", class_names[y_test[image_index]])\n",
    "plt.figure(figsize = (2,2))\n",
    "plt.imshow(image[0], cmap=\"binary\")\n",
    "plt.axis('off')\n",
    "plt.show()"
   ]
  },
  {
   "cell_type": "code",
   "execution_count": 279,
   "id": "db327038",
   "metadata": {},
   "outputs": [],
   "source": [
    "model.save(filepath=\"fashion_clf.keras\")"
   ]
  },
  {
   "cell_type": "markdown",
   "id": "9a2f99a0",
   "metadata": {},
   "source": [
    "Regresja:"
   ]
  },
  {
   "cell_type": "code",
   "execution_count": 280,
   "id": "dbc8b81c",
   "metadata": {},
   "outputs": [],
   "source": [
    "from sklearn.datasets import fetch_california_housing\n",
    "from sklearn.model_selection import train_test_split\n",
    "\n",
    "housing = fetch_california_housing()\n",
    "X = housing['data']\n",
    "y = housing['target']\n",
    "\n",
    "X_trains, X_tests, y_trains, y_tests = train_test_split(X, y, test_size=0.2)"
   ]
  },
  {
   "cell_type": "code",
   "execution_count": 281,
   "id": "77f570d8",
   "metadata": {},
   "outputs": [],
   "source": [
    "model_linear = keras.models.Sequential()\n",
    "\n",
    "normal = model_linear.add(keras.layers.LayerNormalization())\n",
    "dense_1 = model_linear.add(keras.layers.Dense(units=50, activation='relu'))\n",
    "dense_2 = model_linear.add(keras.layers.Dense(units=50, activation='relu'))\n",
    "dense_3 = model_linear.add(keras.layers.Dense(units=50, activation='relu'))\n",
    "dense_output = model_linear.add(keras.layers.Dense(units=1, activation='linear'))\n",
    "\n",
    "model_linear.compile(optimizer=keras.optimizers.Adam(), loss=keras.losses.MeanSquaredError(), metrics=[keras.metrics.RootMeanSquaredError()])"
   ]
  },
  {
   "cell_type": "code",
   "execution_count": 282,
   "id": "16d3775a",
   "metadata": {},
   "outputs": [],
   "source": [
    "es = keras.callbacks.EarlyStopping(patience=5, min_delta=0.01, verbose=1)\n",
    "\n",
    "root_logdir_lin = os.path.join(os.curdir, \"housing_logs\")\n",
    "\n",
    "run_logdir_lin = get_run_logdir(root_logdir_lin)\n",
    "\n",
    "tensorboard_cbs = keras.callbacks.TensorBoard(log_dir=run_logdir_lin)"
   ]
  },
  {
   "cell_type": "code",
   "execution_count": 283,
   "id": "e8149a97",
   "metadata": {},
   "outputs": [
    {
     "name": "stdout",
     "output_type": "stream",
     "text": [
      "Epoch 1/10\n",
      "\u001b[1m516/516\u001b[0m \u001b[32m━━━━━━━━━━━━━━━━━━━━\u001b[0m\u001b[37m\u001b[0m \u001b[1m3s\u001b[0m 3ms/step - loss: 1.7221 - root_mean_squared_error: 1.2974 - val_loss: 1.3241 - val_root_mean_squared_error: 1.1507\n",
      "Epoch 2/10\n",
      "\u001b[1m516/516\u001b[0m \u001b[32m━━━━━━━━━━━━━━━━━━━━\u001b[0m\u001b[37m\u001b[0m \u001b[1m1s\u001b[0m 2ms/step - loss: 1.3074 - root_mean_squared_error: 1.1433 - val_loss: 1.3268 - val_root_mean_squared_error: 1.1519\n",
      "Epoch 3/10\n",
      "\u001b[1m516/516\u001b[0m \u001b[32m━━━━━━━━━━━━━━━━━━━━\u001b[0m\u001b[37m\u001b[0m \u001b[1m1s\u001b[0m 2ms/step - loss: 1.3508 - root_mean_squared_error: 1.1620 - val_loss: 1.3155 - val_root_mean_squared_error: 1.1470\n",
      "Epoch 4/10\n",
      "\u001b[1m516/516\u001b[0m \u001b[32m━━━━━━━━━━━━━━━━━━━━\u001b[0m\u001b[37m\u001b[0m \u001b[1m1s\u001b[0m 2ms/step - loss: 1.3236 - root_mean_squared_error: 1.1504 - val_loss: 1.3322 - val_root_mean_squared_error: 1.1542\n",
      "Epoch 5/10\n",
      "\u001b[1m516/516\u001b[0m \u001b[32m━━━━━━━━━━━━━━━━━━━━\u001b[0m\u001b[37m\u001b[0m \u001b[1m1s\u001b[0m 2ms/step - loss: 1.3337 - root_mean_squared_error: 1.1548 - val_loss: 1.3241 - val_root_mean_squared_error: 1.1507\n",
      "Epoch 6/10\n",
      "\u001b[1m516/516\u001b[0m \u001b[32m━━━━━━━━━━━━━━━━━━━━\u001b[0m\u001b[37m\u001b[0m \u001b[1m1s\u001b[0m 2ms/step - loss: 1.3076 - root_mean_squared_error: 1.1434 - val_loss: 1.2970 - val_root_mean_squared_error: 1.1388\n",
      "Epoch 7/10\n",
      "\u001b[1m516/516\u001b[0m \u001b[32m━━━━━━━━━━━━━━━━━━━━\u001b[0m\u001b[37m\u001b[0m \u001b[1m1s\u001b[0m 2ms/step - loss: 1.2931 - root_mean_squared_error: 1.1371 - val_loss: 1.2476 - val_root_mean_squared_error: 1.1170\n",
      "Epoch 8/10\n",
      "\u001b[1m516/516\u001b[0m \u001b[32m━━━━━━━━━━━━━━━━━━━━\u001b[0m\u001b[37m\u001b[0m \u001b[1m1s\u001b[0m 2ms/step - loss: 1.2653 - root_mean_squared_error: 1.1246 - val_loss: 1.1646 - val_root_mean_squared_error: 1.0792\n",
      "Epoch 9/10\n",
      "\u001b[1m516/516\u001b[0m \u001b[32m━━━━━━━━━━━━━━━━━━━━\u001b[0m\u001b[37m\u001b[0m \u001b[1m1s\u001b[0m 2ms/step - loss: 1.1837 - root_mean_squared_error: 1.0879 - val_loss: 1.0804 - val_root_mean_squared_error: 1.0394\n",
      "Epoch 10/10\n",
      "\u001b[1m516/516\u001b[0m \u001b[32m━━━━━━━━━━━━━━━━━━━━\u001b[0m\u001b[37m\u001b[0m \u001b[1m1s\u001b[0m 2ms/step - loss: 1.0615 - root_mean_squared_error: 1.0302 - val_loss: 0.9808 - val_root_mean_squared_error: 0.9904\n"
     ]
    },
    {
     "data": {
      "text/plain": [
       "<keras.src.callbacks.history.History at 0x2d067d32450>"
      ]
     },
     "execution_count": 283,
     "metadata": {},
     "output_type": "execute_result"
    }
   ],
   "source": [
    "model_linear.fit(x=X_trains, y=y_trains, epochs=10, callbacks=[es, tensorboard_cbs], validation_data=(X_tests, y_tests))"
   ]
  },
  {
   "cell_type": "code",
   "execution_count": 284,
   "id": "bdc8a34a",
   "metadata": {},
   "outputs": [
    {
     "name": "stdout",
     "output_type": "stream",
     "text": [
      "\u001b[1m1/1\u001b[0m \u001b[32m━━━━━━━━━━━━━━━━━━━━\u001b[0m\u001b[37m\u001b[0m \u001b[1m0s\u001b[0m 75ms/step\n",
      "Prediction: 1.2543802\n",
      "Truth: 0.531 \n",
      "\n",
      "MedInc: 1.3807\n",
      "HouseAge: 27.0\n",
      "AveRooms: 4.083333333333333\n",
      "AveBedrms: 1.065217391304348\n",
      "Population: 839.0\n",
      "AveOccup: 3.039855072463768\n"
     ]
    }
   ],
   "source": [
    "classes = housing.feature_names[0:6]\n",
    "\n",
    "index = np.random.randint(len(X_tests))\n",
    "instance = np.array([X_tests[index]])\n",
    "prediction = model_linear.predict(instance).flatten()[0]\n",
    "\n",
    "print(\"Prediction:\", prediction)\n",
    "print(\"Truth:\", y_tests[index], \"\\n\")\n",
    "\n",
    "zipp = zip(classes, instance[0])\n",
    "for name, value in zipp:\n",
    "    print(f\"{name}: {value}\")"
   ]
  },
  {
   "cell_type": "code",
   "execution_count": 285,
   "id": "f21cdb88",
   "metadata": {},
   "outputs": [],
   "source": [
    "model_linear.save(filepath=\"reg_housing_1.keras\")"
   ]
  },
  {
   "cell_type": "markdown",
   "id": "665892eb",
   "metadata": {},
   "source": [
    "Inne modele:"
   ]
  },
  {
   "cell_type": "code",
   "execution_count": 286,
   "id": "cf372c37",
   "metadata": {},
   "outputs": [
    {
     "name": "stdout",
     "output_type": "stream",
     "text": [
      "Epoch 1/10\n",
      "\u001b[1m516/516\u001b[0m \u001b[32m━━━━━━━━━━━━━━━━━━━━\u001b[0m\u001b[37m\u001b[0m \u001b[1m3s\u001b[0m 4ms/step - loss: 1.5326 - root_mean_squared_error: 1.2309 - val_loss: 1.3464 - val_root_mean_squared_error: 1.1603\n",
      "Epoch 2/10\n",
      "\u001b[1m516/516\u001b[0m \u001b[32m━━━━━━━━━━━━━━━━━━━━\u001b[0m\u001b[37m\u001b[0m \u001b[1m2s\u001b[0m 4ms/step - loss: 1.3592 - root_mean_squared_error: 1.1657 - val_loss: 1.3262 - val_root_mean_squared_error: 1.1516\n",
      "Epoch 3/10\n",
      "\u001b[1m516/516\u001b[0m \u001b[32m━━━━━━━━━━━━━━━━━━━━\u001b[0m\u001b[37m\u001b[0m \u001b[1m2s\u001b[0m 3ms/step - loss: 1.3269 - root_mean_squared_error: 1.1518 - val_loss: 1.2913 - val_root_mean_squared_error: 1.1363\n",
      "Epoch 4/10\n",
      "\u001b[1m516/516\u001b[0m \u001b[32m━━━━━━━━━━━━━━━━━━━━\u001b[0m\u001b[37m\u001b[0m \u001b[1m3s\u001b[0m 5ms/step - loss: 1.2974 - root_mean_squared_error: 1.1389 - val_loss: 1.2182 - val_root_mean_squared_error: 1.1037\n",
      "Epoch 5/10\n",
      "\u001b[1m516/516\u001b[0m \u001b[32m━━━━━━━━━━━━━━━━━━━━\u001b[0m\u001b[37m\u001b[0m \u001b[1m3s\u001b[0m 6ms/step - loss: 1.2437 - root_mean_squared_error: 1.1152 - val_loss: 1.0563 - val_root_mean_squared_error: 1.0277\n",
      "Epoch 6/10\n",
      "\u001b[1m516/516\u001b[0m \u001b[32m━━━━━━━━━━━━━━━━━━━━\u001b[0m\u001b[37m\u001b[0m \u001b[1m2s\u001b[0m 4ms/step - loss: 1.0190 - root_mean_squared_error: 1.0093 - val_loss: 0.8923 - val_root_mean_squared_error: 0.9446\n",
      "Epoch 7/10\n",
      "\u001b[1m516/516\u001b[0m \u001b[32m━━━━━━━━━━━━━━━━━━━━\u001b[0m\u001b[37m\u001b[0m \u001b[1m2s\u001b[0m 3ms/step - loss: 0.9384 - root_mean_squared_error: 0.9685 - val_loss: 0.7780 - val_root_mean_squared_error: 0.8821\n",
      "Epoch 8/10\n",
      "\u001b[1m516/516\u001b[0m \u001b[32m━━━━━━━━━━━━━━━━━━━━\u001b[0m\u001b[37m\u001b[0m \u001b[1m2s\u001b[0m 4ms/step - loss: 0.8700 - root_mean_squared_error: 0.9326 - val_loss: 0.7104 - val_root_mean_squared_error: 0.8428\n",
      "Epoch 9/10\n",
      "\u001b[1m516/516\u001b[0m \u001b[32m━━━━━━━━━━━━━━━━━━━━\u001b[0m\u001b[37m\u001b[0m \u001b[1m2s\u001b[0m 4ms/step - loss: 0.8721 - root_mean_squared_error: 0.9337 - val_loss: 0.7351 - val_root_mean_squared_error: 0.8574\n",
      "Epoch 10/10\n",
      "\u001b[1m516/516\u001b[0m \u001b[32m━━━━━━━━━━━━━━━━━━━━\u001b[0m\u001b[37m\u001b[0m \u001b[1m2s\u001b[0m 4ms/step - loss: 0.8193 - root_mean_squared_error: 0.9050 - val_loss: 0.6923 - val_root_mean_squared_error: 0.8320\n"
     ]
    }
   ],
   "source": [
    "model_linear_2 = keras.models.Sequential()\n",
    "\n",
    "normal = model_linear_2.add(keras.layers.LayerNormalization())\n",
    "dense_1 = model_linear_2.add(keras.layers.Dense(units=300, activation='relu'))\n",
    "dense_2 = model_linear_2.add(keras.layers.Dense(units=300, activation='relu'))\n",
    "dense_3 = model_linear_2.add(keras.layers.Dense(units=300, activation='relu'))\n",
    "dense_4 = model_linear_2.add(keras.layers.Dense(units=300, activation='relu'))\n",
    "dense_output = model_linear_2.add(keras.layers.Dense(units=1, activation='linear'))\n",
    "\n",
    "model_linear_2.compile(optimizer=keras.optimizers.Adam(), loss=keras.losses.MeanSquaredError(), metrics=[keras.metrics.RootMeanSquaredError()])\n",
    "\n",
    "model_linear_2.fit(x=X_trains, y=y_trains, epochs=10, callbacks=[es, tensorboard_cbs], validation_data=(X_tests, y_tests))\n",
    "\n",
    "model_linear_2.save(filepath=\"reg_housing_2.keras\")"
   ]
  },
  {
   "cell_type": "code",
   "execution_count": 287,
   "id": "053df2ca",
   "metadata": {},
   "outputs": [
    {
     "name": "stdout",
     "output_type": "stream",
     "text": [
      "\u001b[1m1/1\u001b[0m \u001b[32m━━━━━━━━━━━━━━━━━━━━\u001b[0m\u001b[37m\u001b[0m \u001b[1m0s\u001b[0m 69ms/step\n",
      "Prediction: 2.4932823\n",
      "Truth: 1.695 \n",
      "\n",
      "MedInc: 4.0391\n",
      "HouseAge: 15.0\n",
      "AveRooms: 6.297709923664122\n",
      "AveBedrms: 0.9923664122137404\n",
      "Population: 334.0\n",
      "AveOccup: 2.549618320610687\n"
     ]
    }
   ],
   "source": [
    "index = np.random.randint(len(X_tests))\n",
    "instance = np.array([X_tests[index]])\n",
    "prediction = model_linear_2.predict(instance).flatten()[0]\n",
    "\n",
    "print(\"Prediction:\", prediction)\n",
    "print(\"Truth:\", y_tests[index], \"\\n\")\n",
    "\n",
    "zipp = zip(classes, instance[0])\n",
    "for name, value in zipp:\n",
    "    print(f\"{name}: {value}\")"
   ]
  },
  {
   "cell_type": "code",
   "execution_count": 288,
   "id": "20073f23",
   "metadata": {},
   "outputs": [
    {
     "name": "stdout",
     "output_type": "stream",
     "text": [
      "Epoch 1/10\n",
      "\u001b[1m516/516\u001b[0m \u001b[32m━━━━━━━━━━━━━━━━━━━━\u001b[0m\u001b[37m\u001b[0m \u001b[1m2s\u001b[0m 3ms/step - loss: 2.3725 - root_mean_squared_error: 1.5103 - val_loss: 1.3262 - val_root_mean_squared_error: 1.1516\n",
      "Epoch 2/10\n",
      "\u001b[1m516/516\u001b[0m \u001b[32m━━━━━━━━━━━━━━━━━━━━\u001b[0m\u001b[37m\u001b[0m \u001b[1m1s\u001b[0m 2ms/step - loss: 1.3330 - root_mean_squared_error: 1.1545 - val_loss: 1.3249 - val_root_mean_squared_error: 1.1510\n",
      "Epoch 3/10\n",
      "\u001b[1m516/516\u001b[0m \u001b[32m━━━━━━━━━━━━━━━━━━━━\u001b[0m\u001b[37m\u001b[0m \u001b[1m1s\u001b[0m 2ms/step - loss: 1.3397 - root_mean_squared_error: 1.1574 - val_loss: 1.3181 - val_root_mean_squared_error: 1.1481\n",
      "Epoch 4/10\n",
      "\u001b[1m516/516\u001b[0m \u001b[32m━━━━━━━━━━━━━━━━━━━━\u001b[0m\u001b[37m\u001b[0m \u001b[1m1s\u001b[0m 2ms/step - loss: 1.3549 - root_mean_squared_error: 1.1638 - val_loss: 1.3175 - val_root_mean_squared_error: 1.1478\n",
      "Epoch 5/10\n",
      "\u001b[1m516/516\u001b[0m \u001b[32m━━━━━━━━━━━━━━━━━━━━\u001b[0m\u001b[37m\u001b[0m \u001b[1m1s\u001b[0m 3ms/step - loss: 1.3314 - root_mean_squared_error: 1.1538 - val_loss: 1.3135 - val_root_mean_squared_error: 1.1461\n",
      "Epoch 6/10\n",
      "\u001b[1m516/516\u001b[0m \u001b[32m━━━━━━━━━━━━━━━━━━━━\u001b[0m\u001b[37m\u001b[0m \u001b[1m1s\u001b[0m 2ms/step - loss: 1.3489 - root_mean_squared_error: 1.1613 - val_loss: 1.3129 - val_root_mean_squared_error: 1.1458\n",
      "Epoch 7/10\n",
      "\u001b[1m516/516\u001b[0m \u001b[32m━━━━━━━━━━━━━━━━━━━━\u001b[0m\u001b[37m\u001b[0m \u001b[1m1s\u001b[0m 3ms/step - loss: 1.3264 - root_mean_squared_error: 1.1516 - val_loss: 1.3157 - val_root_mean_squared_error: 1.1470\n",
      "Epoch 8/10\n",
      "\u001b[1m516/516\u001b[0m \u001b[32m━━━━━━━━━━━━━━━━━━━━\u001b[0m\u001b[37m\u001b[0m \u001b[1m1s\u001b[0m 2ms/step - loss: 1.3206 - root_mean_squared_error: 1.1491 - val_loss: 1.3051 - val_root_mean_squared_error: 1.1424\n",
      "Epoch 9/10\n",
      "\u001b[1m516/516\u001b[0m \u001b[32m━━━━━━━━━━━━━━━━━━━━\u001b[0m\u001b[37m\u001b[0m \u001b[1m1s\u001b[0m 3ms/step - loss: 1.3110 - root_mean_squared_error: 1.1449 - val_loss: 1.2996 - val_root_mean_squared_error: 1.1400\n",
      "Epoch 10/10\n",
      "\u001b[1m516/516\u001b[0m \u001b[32m━━━━━━━━━━━━━━━━━━━━\u001b[0m\u001b[37m\u001b[0m \u001b[1m1s\u001b[0m 2ms/step - loss: 1.3188 - root_mean_squared_error: 1.1484 - val_loss: 1.3030 - val_root_mean_squared_error: 1.1415\n"
     ]
    }
   ],
   "source": [
    "model_linear_3 = keras.models.Sequential()\n",
    "\n",
    "normal = model_linear_3.add(keras.layers.LayerNormalization())\n",
    "dense_1 = model_linear_3.add(keras.layers.Dense(units=10, activation='relu'))\n",
    "dense_2 = model_linear_3.add(keras.layers.Dense(units=10, activation='relu'))\n",
    "dense_output = model_linear_3.add(keras.layers.Dense(units=1, activation='linear'))\n",
    "\n",
    "model_linear_3.compile(optimizer=keras.optimizers.Adam(), loss=keras.losses.MeanSquaredError(), metrics=[keras.metrics.RootMeanSquaredError()])\n",
    "\n",
    "model_linear_3.fit(x=X_trains, y=y_trains, epochs=10, callbacks=[es, tensorboard_cbs], validation_data=(X_tests, y_tests))\n",
    "\n",
    "model_linear_3.save(filepath=\"reg_housing_3.keras\")"
   ]
  },
  {
   "cell_type": "code",
   "execution_count": 289,
   "id": "04b96446",
   "metadata": {},
   "outputs": [
    {
     "name": "stdout",
     "output_type": "stream",
     "text": [
      "\u001b[1m1/1\u001b[0m \u001b[32m━━━━━━━━━━━━━━━━━━━━\u001b[0m\u001b[37m\u001b[0m \u001b[1m0s\u001b[0m 67ms/step\n",
      "Prediction: 1.9674367\n",
      "Truth: 2.621 \n",
      "\n",
      "MedInc: 7.1736\n",
      "HouseAge: 12.0\n",
      "AveRooms: 6.289002557544757\n",
      "AveBedrms: 0.9974424552429667\n",
      "Population: 1054.0\n",
      "AveOccup: 2.6956521739130435\n"
     ]
    }
   ],
   "source": [
    "index = np.random.randint(len(X_tests))\n",
    "instance = np.array([X_tests[index]])\n",
    "prediction = model_linear_3.predict(instance).flatten()[0]\n",
    "\n",
    "print(\"Prediction:\", prediction)\n",
    "print(\"Truth:\", y_tests[index], \"\\n\")\n",
    "\n",
    "zipp = zip(classes, instance[0])\n",
    "for name, value in zipp:\n",
    "    print(f\"{name}: {value}\")"
   ]
  },
  {
   "cell_type": "code",
   "execution_count": 290,
   "id": "8777dae5",
   "metadata": {},
   "outputs": [
    {
     "name": "stdout",
     "output_type": "stream",
     "text": [
      "The tensorboard extension is already loaded. To reload it, use:\n",
      "  %reload_ext tensorboard\n"
     ]
    },
    {
     "data": {
      "text/plain": [
       "Reusing TensorBoard on port 6006 (pid 28644), started 0:04:24 ago. (Use '!kill 28644' to kill it.)"
      ]
     },
     "metadata": {},
     "output_type": "display_data"
    },
    {
     "data": {
      "text/html": [
       "\n",
       "      <iframe id=\"tensorboard-frame-ebd43cf9407f275\" width=\"100%\" height=\"800\" frameborder=\"0\">\n",
       "      </iframe>\n",
       "      <script>\n",
       "        (function() {\n",
       "          const frame = document.getElementById(\"tensorboard-frame-ebd43cf9407f275\");\n",
       "          const url = new URL(\"http://localhost\");\n",
       "          const port = 6006;\n",
       "          if (port) {\n",
       "            url.port = port;\n",
       "          }\n",
       "          frame.src = url;\n",
       "        })();\n",
       "      </script>\n",
       "    "
      ],
      "text/plain": [
       "<IPython.core.display.HTML object>"
      ]
     },
     "metadata": {},
     "output_type": "display_data"
    }
   ],
   "source": [
    "%load_ext tensorboard\n",
    "%tensorboard --logdir ./image_logs"
   ]
  }
 ],
 "metadata": {
  "kernelspec": {
   "display_name": "venv",
   "language": "python",
   "name": "python3"
  },
  "language_info": {
   "codemirror_mode": {
    "name": "ipython",
    "version": 3
   },
   "file_extension": ".py",
   "mimetype": "text/x-python",
   "name": "python",
   "nbconvert_exporter": "python",
   "pygments_lexer": "ipython3",
   "version": "3.12.8"
  }
 },
 "nbformat": 4,
 "nbformat_minor": 5
}
