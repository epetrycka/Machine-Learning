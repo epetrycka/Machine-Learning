{
 "cells": [
  {
   "cell_type": "markdown",
   "id": "258febf1",
   "metadata": {},
   "source": [
    "Przygotowanie danych:"
   ]
  },
  {
   "cell_type": "code",
   "execution_count": 3,
   "id": "e8e81c8f",
   "metadata": {},
   "outputs": [],
   "source": [
    "from sklearn.datasets import load_breast_cancer, load_iris\n",
    "\n",
    "datasets = {\n",
    "    \"breast_cancer\": load_breast_cancer(),\n",
    "    \"iris\": load_iris()\n",
    "}"
   ]
  },
  {
   "cell_type": "code",
   "execution_count": 4,
   "id": "f17f16c1",
   "metadata": {},
   "outputs": [
    {
     "name": "stdout",
     "output_type": "stream",
     "text": [
      "[0.98204467]\n",
      "[0.44272026 0.18971182 0.09393163 0.06602135 0.05495768 0.04024522\n",
      " 0.02250734]\n",
      "[ 7  6 27  5 22 26 20  2 23  3  0 12 25 10 13 17 15  9 16  4  8 29 24 28\n",
      " 19 21  1 14 11 18]\n",
      "[0.92461872]\n",
      "[0.72962445 0.22850762]\n",
      "[2 3 0 1]\n"
     ]
    }
   ],
   "source": [
    "from sklearn.decomposition import PCA\n",
    "from sklearn.preprocessing import StandardScaler\n",
    "import pickle\n",
    "import numpy as np\n",
    "\n",
    "for name, dataset in datasets.items():\n",
    "    data = dataset[\"data\"]\n",
    "    pca = PCA(n_components=0.9)\n",
    "    pca.fit(data)\n",
    "    print(pca.explained_variance_ratio_)\n",
    "    \n",
    "    scaler = StandardScaler()\n",
    "    scaled_data = scaler.fit_transform(data)\n",
    "    pca_scaled = PCA(n_components=0.9)\n",
    "    pca_scaled.fit(scaled_data)\n",
    "    print(pca_scaled.explained_variance_ratio_)\n",
    "\n",
    "    filename = f\"pca_bc.pkl\" if name == \"breast_cancer\" else \"pca_ir.pkl\"\n",
    "\n",
    "    with open(filename, \"wb\") as file:\n",
    "        pickle.dump(pca_scaled.explained_variance_ratio_.tolist(), file)\n",
    "\n",
    "    weights = np.abs(pca_scaled.components_ * pca_scaled.explained_variance_ratio_[:, np.newaxis])\n",
    "    indices = np.argsort(np.max(weights, axis=0))[::-1]\n",
    "\n",
    "    filename = \"idx_bc.pkl\" if name == \"breast_cancer\" else \"idx_ir.pkl\"\n",
    "    with open(filename, \"wb\") as f:\n",
    "        pickle.dump(indices, f)\n",
    "\n",
    "    print(indices)"
   ]
  }
 ],
 "metadata": {
  "kernelspec": {
   "display_name": "venv",
   "language": "python",
   "name": "python3"
  },
  "language_info": {
   "codemirror_mode": {
    "name": "ipython",
    "version": 3
   },
   "file_extension": ".py",
   "mimetype": "text/x-python",
   "name": "python",
   "nbconvert_exporter": "python",
   "pygments_lexer": "ipython3",
   "version": "3.12.8"
  }
 },
 "nbformat": 4,
 "nbformat_minor": 5
}
